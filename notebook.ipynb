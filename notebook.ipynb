{
 "cells": [
  {
   "cell_type": "markdown",
   "id": "2a9e84d4",
   "metadata": {
    "heading_collapsed": true
   },
   "source": [
    "# BUSINESS PROBLEM - Churn Prediction"
   ]
  },
  {
   "cell_type": "markdown",
   "id": "231f9a31",
   "metadata": {
    "hidden": true
   },
   "source": [
    "Churn rate, representa a taxa de cancelamento de algum tipo de serivço. Por exemplo: cancelamento de assinaturas do Netflix. \n",
    "\n",
    "Portanto, nosso principal objetivo é identificar clientes que possuem maior probabilidade de cancelar sua assinatura em determinada companhia de telecomunicação.\n",
    "\n",
    "dataset: https://raw.githubusercontent.com/carlosfab/dsnp2/master/datasets/WA_Fn-UseC_-Telco-Customer-Churn.csv"
   ]
  },
  {
   "cell_type": "markdown",
   "id": "d29da785",
   "metadata": {},
   "source": [
    "# 0.0. IMPORTS"
   ]
  },
  {
   "cell_type": "code",
   "execution_count": 219,
   "id": "5ab24997",
   "metadata": {
    "ExecuteTime": {
     "end_time": "2022-09-03T02:48:39.806160Z",
     "start_time": "2022-09-03T02:48:36.763017Z"
    }
   },
   "outputs": [],
   "source": [
    "#data manipulation\n",
    "import pandas as pd\n",
    "import numpy as np\n",
    "\n",
    "from imblearn.under_sampling import RandomUnderSampler\n",
    "\n",
    "#sklearn\n",
    "from sklearn.preprocessing import LabelEncoder, StandardScaler\n",
    "from sklearn.model_selection import train_test_split\n",
    "from sklearn.linear_model import LogisticRegression\n",
    "from sklearn.ensemble import RandomForestClassifier\n",
    "from sklearn.metrics import roc_auc_score, accuracy_score, f1_score, confusion_matrix, classification_report\n",
    "from scikitplot.metrics import plot_confusion_matrix, plot_roc\n",
    "from sklearn.pipeline import make_pipeline\n",
    "from sklearn.model_selection import cross_val_score\n",
    "from sklearn.model_selection import StratifiedKFold\n",
    "\n",
    "from sklearn.svm import SVC\n",
    "from lightgbm import LGBMClassifier\n",
    "from sklearn.linear_model import SGDClassifier\n",
    "from sklearn.tree import DecisionTreeClassifier\n",
    "from sklearn.linear_model import LogisticRegression\n",
    "from xgboost import XGBClassifier\n",
    "from sklearn.ensemble import RandomForestClassifier\n",
    "\n",
    "#data viz\n",
    "import matplotlib.pyplot as plt\n",
    "import seaborn as sns"
   ]
  },
  {
   "cell_type": "code",
   "execution_count": 266,
   "id": "cc5870a9",
   "metadata": {
    "ExecuteTime": {
     "end_time": "2022-09-03T03:01:10.236050Z",
     "start_time": "2022-09-03T03:01:10.227055Z"
    }
   },
   "outputs": [],
   "source": [
    "import warnings\n",
    "#warnings.filter_warnings(\"ignore\")"
   ]
  },
  {
   "cell_type": "markdown",
   "id": "10128d82",
   "metadata": {
    "heading_collapsed": true
   },
   "source": [
    "## 0.1. Loading Data"
   ]
  },
  {
   "cell_type": "code",
   "execution_count": 11,
   "id": "d99b934d",
   "metadata": {
    "ExecuteTime": {
     "end_time": "2022-09-03T01:20:10.464671Z",
     "start_time": "2022-09-03T01:20:10.454697Z"
    },
    "hidden": true
   },
   "outputs": [],
   "source": [
    "pd.set_option('display.max_columns', None)"
   ]
  },
  {
   "cell_type": "code",
   "execution_count": 2,
   "id": "6b7591b2",
   "metadata": {
    "ExecuteTime": {
     "end_time": "2022-09-03T01:13:15.685650Z",
     "start_time": "2022-09-03T01:13:15.052557Z"
    },
    "hidden": true
   },
   "outputs": [],
   "source": [
    "dataset = \"https://raw.githubusercontent.com/carlosfab/dsnp2/master/datasets/WA_Fn-UseC_-Telco-Customer-Churn.csv\"\n",
    "\n",
    "#read csv\n",
    "df_raw = pd.read_csv(dataset)"
   ]
  },
  {
   "cell_type": "code",
   "execution_count": 3,
   "id": "0f9dfb1f",
   "metadata": {
    "ExecuteTime": {
     "end_time": "2022-09-03T01:13:31.602152Z",
     "start_time": "2022-09-03T01:13:31.540931Z"
    },
    "hidden": true
   },
   "outputs": [
    {
     "data": {
      "text/html": [
       "<div>\n",
       "<style scoped>\n",
       "    .dataframe tbody tr th:only-of-type {\n",
       "        vertical-align: middle;\n",
       "    }\n",
       "\n",
       "    .dataframe tbody tr th {\n",
       "        vertical-align: top;\n",
       "    }\n",
       "\n",
       "    .dataframe thead th {\n",
       "        text-align: right;\n",
       "    }\n",
       "</style>\n",
       "<table border=\"1\" class=\"dataframe\">\n",
       "  <thead>\n",
       "    <tr style=\"text-align: right;\">\n",
       "      <th></th>\n",
       "      <th>customerID</th>\n",
       "      <th>gender</th>\n",
       "      <th>SeniorCitizen</th>\n",
       "      <th>Partner</th>\n",
       "      <th>Dependents</th>\n",
       "      <th>tenure</th>\n",
       "      <th>PhoneService</th>\n",
       "      <th>MultipleLines</th>\n",
       "      <th>InternetService</th>\n",
       "      <th>OnlineSecurity</th>\n",
       "      <th>...</th>\n",
       "      <th>DeviceProtection</th>\n",
       "      <th>TechSupport</th>\n",
       "      <th>StreamingTV</th>\n",
       "      <th>StreamingMovies</th>\n",
       "      <th>Contract</th>\n",
       "      <th>PaperlessBilling</th>\n",
       "      <th>PaymentMethod</th>\n",
       "      <th>MonthlyCharges</th>\n",
       "      <th>TotalCharges</th>\n",
       "      <th>Churn</th>\n",
       "    </tr>\n",
       "  </thead>\n",
       "  <tbody>\n",
       "    <tr>\n",
       "      <th>0</th>\n",
       "      <td>7590-VHVEG</td>\n",
       "      <td>Female</td>\n",
       "      <td>0</td>\n",
       "      <td>Yes</td>\n",
       "      <td>No</td>\n",
       "      <td>1</td>\n",
       "      <td>No</td>\n",
       "      <td>No phone service</td>\n",
       "      <td>DSL</td>\n",
       "      <td>No</td>\n",
       "      <td>...</td>\n",
       "      <td>No</td>\n",
       "      <td>No</td>\n",
       "      <td>No</td>\n",
       "      <td>No</td>\n",
       "      <td>Month-to-month</td>\n",
       "      <td>Yes</td>\n",
       "      <td>Electronic check</td>\n",
       "      <td>29.85</td>\n",
       "      <td>29.85</td>\n",
       "      <td>No</td>\n",
       "    </tr>\n",
       "    <tr>\n",
       "      <th>1</th>\n",
       "      <td>5575-GNVDE</td>\n",
       "      <td>Male</td>\n",
       "      <td>0</td>\n",
       "      <td>No</td>\n",
       "      <td>No</td>\n",
       "      <td>34</td>\n",
       "      <td>Yes</td>\n",
       "      <td>No</td>\n",
       "      <td>DSL</td>\n",
       "      <td>Yes</td>\n",
       "      <td>...</td>\n",
       "      <td>Yes</td>\n",
       "      <td>No</td>\n",
       "      <td>No</td>\n",
       "      <td>No</td>\n",
       "      <td>One year</td>\n",
       "      <td>No</td>\n",
       "      <td>Mailed check</td>\n",
       "      <td>56.95</td>\n",
       "      <td>1889.5</td>\n",
       "      <td>No</td>\n",
       "    </tr>\n",
       "    <tr>\n",
       "      <th>2</th>\n",
       "      <td>3668-QPYBK</td>\n",
       "      <td>Male</td>\n",
       "      <td>0</td>\n",
       "      <td>No</td>\n",
       "      <td>No</td>\n",
       "      <td>2</td>\n",
       "      <td>Yes</td>\n",
       "      <td>No</td>\n",
       "      <td>DSL</td>\n",
       "      <td>Yes</td>\n",
       "      <td>...</td>\n",
       "      <td>No</td>\n",
       "      <td>No</td>\n",
       "      <td>No</td>\n",
       "      <td>No</td>\n",
       "      <td>Month-to-month</td>\n",
       "      <td>Yes</td>\n",
       "      <td>Mailed check</td>\n",
       "      <td>53.85</td>\n",
       "      <td>108.15</td>\n",
       "      <td>Yes</td>\n",
       "    </tr>\n",
       "    <tr>\n",
       "      <th>3</th>\n",
       "      <td>7795-CFOCW</td>\n",
       "      <td>Male</td>\n",
       "      <td>0</td>\n",
       "      <td>No</td>\n",
       "      <td>No</td>\n",
       "      <td>45</td>\n",
       "      <td>No</td>\n",
       "      <td>No phone service</td>\n",
       "      <td>DSL</td>\n",
       "      <td>Yes</td>\n",
       "      <td>...</td>\n",
       "      <td>Yes</td>\n",
       "      <td>Yes</td>\n",
       "      <td>No</td>\n",
       "      <td>No</td>\n",
       "      <td>One year</td>\n",
       "      <td>No</td>\n",
       "      <td>Bank transfer (automatic)</td>\n",
       "      <td>42.30</td>\n",
       "      <td>1840.75</td>\n",
       "      <td>No</td>\n",
       "    </tr>\n",
       "    <tr>\n",
       "      <th>4</th>\n",
       "      <td>9237-HQITU</td>\n",
       "      <td>Female</td>\n",
       "      <td>0</td>\n",
       "      <td>No</td>\n",
       "      <td>No</td>\n",
       "      <td>2</td>\n",
       "      <td>Yes</td>\n",
       "      <td>No</td>\n",
       "      <td>Fiber optic</td>\n",
       "      <td>No</td>\n",
       "      <td>...</td>\n",
       "      <td>No</td>\n",
       "      <td>No</td>\n",
       "      <td>No</td>\n",
       "      <td>No</td>\n",
       "      <td>Month-to-month</td>\n",
       "      <td>Yes</td>\n",
       "      <td>Electronic check</td>\n",
       "      <td>70.70</td>\n",
       "      <td>151.65</td>\n",
       "      <td>Yes</td>\n",
       "    </tr>\n",
       "  </tbody>\n",
       "</table>\n",
       "<p>5 rows × 21 columns</p>\n",
       "</div>"
      ],
      "text/plain": [
       "   customerID  gender  SeniorCitizen Partner Dependents  tenure PhoneService  \\\n",
       "0  7590-VHVEG  Female              0     Yes         No       1           No   \n",
       "1  5575-GNVDE    Male              0      No         No      34          Yes   \n",
       "2  3668-QPYBK    Male              0      No         No       2          Yes   \n",
       "3  7795-CFOCW    Male              0      No         No      45           No   \n",
       "4  9237-HQITU  Female              0      No         No       2          Yes   \n",
       "\n",
       "      MultipleLines InternetService OnlineSecurity  ... DeviceProtection  \\\n",
       "0  No phone service             DSL             No  ...               No   \n",
       "1                No             DSL            Yes  ...              Yes   \n",
       "2                No             DSL            Yes  ...               No   \n",
       "3  No phone service             DSL            Yes  ...              Yes   \n",
       "4                No     Fiber optic             No  ...               No   \n",
       "\n",
       "  TechSupport StreamingTV StreamingMovies        Contract PaperlessBilling  \\\n",
       "0          No          No              No  Month-to-month              Yes   \n",
       "1          No          No              No        One year               No   \n",
       "2          No          No              No  Month-to-month              Yes   \n",
       "3         Yes          No              No        One year               No   \n",
       "4          No          No              No  Month-to-month              Yes   \n",
       "\n",
       "               PaymentMethod MonthlyCharges  TotalCharges Churn  \n",
       "0           Electronic check          29.85         29.85    No  \n",
       "1               Mailed check          56.95        1889.5    No  \n",
       "2               Mailed check          53.85        108.15   Yes  \n",
       "3  Bank transfer (automatic)          42.30       1840.75    No  \n",
       "4           Electronic check          70.70        151.65   Yes  \n",
       "\n",
       "[5 rows x 21 columns]"
      ]
     },
     "execution_count": 3,
     "metadata": {},
     "output_type": "execute_result"
    }
   ],
   "source": [
    "df_raw.head()"
   ]
  },
  {
   "cell_type": "markdown",
   "id": "f1dbd22b",
   "metadata": {
    "heading_collapsed": true
   },
   "source": [
    "## 0.2. Helper Functions"
   ]
  },
  {
   "cell_type": "code",
   "execution_count": 217,
   "id": "220a1bb8",
   "metadata": {
    "ExecuteTime": {
     "end_time": "2022-09-03T02:47:08.985065Z",
     "start_time": "2022-09-03T02:47:08.970808Z"
    },
    "hidden": true
   },
   "outputs": [],
   "source": [
    "def val_model(X, y, clf, quite=False):\n",
    "    \"\"\"\n",
    "    Realiza cross-validation com os dados de treino para determinado modelo.\n",
    "\n",
    "    # Arguments\n",
    "        X: DataFrame, contém as variáveis independetes.\n",
    "        y: Series, vetor contendo a variável alvo.\n",
    "        clf: modelo classificador do Scikit-learn.\n",
    "        quite: bool, indicando se a função deve imprimir os resultados ou não.\n",
    "\n",
    "    # Returns\n",
    "        float, média dos scores da cross-validation.\n",
    "    \"\"\"\n",
    "    \n",
    "    X = np.array(X)\n",
    "    y = np.array(y)\n",
    "\n",
    "    pipeline = make_pipeline(StandardScaler(), clf)\n",
    "    scores = cross_val_score(pipeline, X, y, scoring='recall')\n",
    "\n",
    "    if quite == False:\n",
    "        print(\"Recall: {:.2f} (+/- {:.2f})\".format(scores.mean(), scores.std()))\n",
    "    \n",
    "    return scores.mean()"
   ]
  },
  {
   "cell_type": "markdown",
   "id": "093b9fe2",
   "metadata": {
    "heading_collapsed": true
   },
   "source": [
    "# 1.0. DATA DESCRIPTION"
   ]
  },
  {
   "cell_type": "code",
   "execution_count": 5,
   "id": "d4b1879c",
   "metadata": {
    "ExecuteTime": {
     "end_time": "2022-09-03T01:16:48.404718Z",
     "start_time": "2022-09-03T01:16:48.390235Z"
    },
    "hidden": true
   },
   "outputs": [],
   "source": [
    "#checkpoint\n",
    "df1 = df_raw.copy()"
   ]
  },
  {
   "cell_type": "markdown",
   "id": "943eaf44",
   "metadata": {
    "heading_collapsed": true,
    "hidden": true
   },
   "source": [
    "## 1.1. Data Dimension"
   ]
  },
  {
   "cell_type": "code",
   "execution_count": 9,
   "id": "5c224aa1",
   "metadata": {
    "ExecuteTime": {
     "end_time": "2022-09-03T01:18:55.303905Z",
     "start_time": "2022-09-03T01:18:55.286771Z"
    },
    "hidden": true
   },
   "outputs": [
    {
     "name": "stdout",
     "output_type": "stream",
     "text": [
      "Number of Rows: 7043\n",
      "Number of columns: 21\n"
     ]
    }
   ],
   "source": [
    "print(f\"Number of Rows: {df1.shape[0]}\")\n",
    "print(f\"Number of columns: {df1.shape[1]}\")"
   ]
  },
  {
   "cell_type": "markdown",
   "id": "e8a280ca",
   "metadata": {
    "heading_collapsed": true,
    "hidden": true
   },
   "source": [
    "## 1.2. Data Types"
   ]
  },
  {
   "cell_type": "code",
   "execution_count": 12,
   "id": "00eef700",
   "metadata": {
    "ExecuteTime": {
     "end_time": "2022-09-03T01:20:14.693562Z",
     "start_time": "2022-09-03T01:20:14.668999Z"
    },
    "hidden": true
   },
   "outputs": [
    {
     "data": {
      "text/html": [
       "<div>\n",
       "<style scoped>\n",
       "    .dataframe tbody tr th:only-of-type {\n",
       "        vertical-align: middle;\n",
       "    }\n",
       "\n",
       "    .dataframe tbody tr th {\n",
       "        vertical-align: top;\n",
       "    }\n",
       "\n",
       "    .dataframe thead th {\n",
       "        text-align: right;\n",
       "    }\n",
       "</style>\n",
       "<table border=\"1\" class=\"dataframe\">\n",
       "  <thead>\n",
       "    <tr style=\"text-align: right;\">\n",
       "      <th></th>\n",
       "      <th>customerID</th>\n",
       "      <th>gender</th>\n",
       "      <th>SeniorCitizen</th>\n",
       "      <th>Partner</th>\n",
       "      <th>Dependents</th>\n",
       "      <th>tenure</th>\n",
       "      <th>PhoneService</th>\n",
       "      <th>MultipleLines</th>\n",
       "      <th>InternetService</th>\n",
       "      <th>OnlineSecurity</th>\n",
       "      <th>OnlineBackup</th>\n",
       "      <th>DeviceProtection</th>\n",
       "      <th>TechSupport</th>\n",
       "      <th>StreamingTV</th>\n",
       "      <th>StreamingMovies</th>\n",
       "      <th>Contract</th>\n",
       "      <th>PaperlessBilling</th>\n",
       "      <th>PaymentMethod</th>\n",
       "      <th>MonthlyCharges</th>\n",
       "      <th>TotalCharges</th>\n",
       "      <th>Churn</th>\n",
       "    </tr>\n",
       "  </thead>\n",
       "  <tbody>\n",
       "    <tr>\n",
       "      <th>0</th>\n",
       "      <td>7590-VHVEG</td>\n",
       "      <td>Female</td>\n",
       "      <td>0</td>\n",
       "      <td>Yes</td>\n",
       "      <td>No</td>\n",
       "      <td>1</td>\n",
       "      <td>No</td>\n",
       "      <td>No phone service</td>\n",
       "      <td>DSL</td>\n",
       "      <td>No</td>\n",
       "      <td>Yes</td>\n",
       "      <td>No</td>\n",
       "      <td>No</td>\n",
       "      <td>No</td>\n",
       "      <td>No</td>\n",
       "      <td>Month-to-month</td>\n",
       "      <td>Yes</td>\n",
       "      <td>Electronic check</td>\n",
       "      <td>29.85</td>\n",
       "      <td>29.85</td>\n",
       "      <td>No</td>\n",
       "    </tr>\n",
       "    <tr>\n",
       "      <th>1</th>\n",
       "      <td>5575-GNVDE</td>\n",
       "      <td>Male</td>\n",
       "      <td>0</td>\n",
       "      <td>No</td>\n",
       "      <td>No</td>\n",
       "      <td>34</td>\n",
       "      <td>Yes</td>\n",
       "      <td>No</td>\n",
       "      <td>DSL</td>\n",
       "      <td>Yes</td>\n",
       "      <td>No</td>\n",
       "      <td>Yes</td>\n",
       "      <td>No</td>\n",
       "      <td>No</td>\n",
       "      <td>No</td>\n",
       "      <td>One year</td>\n",
       "      <td>No</td>\n",
       "      <td>Mailed check</td>\n",
       "      <td>56.95</td>\n",
       "      <td>1889.5</td>\n",
       "      <td>No</td>\n",
       "    </tr>\n",
       "    <tr>\n",
       "      <th>2</th>\n",
       "      <td>3668-QPYBK</td>\n",
       "      <td>Male</td>\n",
       "      <td>0</td>\n",
       "      <td>No</td>\n",
       "      <td>No</td>\n",
       "      <td>2</td>\n",
       "      <td>Yes</td>\n",
       "      <td>No</td>\n",
       "      <td>DSL</td>\n",
       "      <td>Yes</td>\n",
       "      <td>Yes</td>\n",
       "      <td>No</td>\n",
       "      <td>No</td>\n",
       "      <td>No</td>\n",
       "      <td>No</td>\n",
       "      <td>Month-to-month</td>\n",
       "      <td>Yes</td>\n",
       "      <td>Mailed check</td>\n",
       "      <td>53.85</td>\n",
       "      <td>108.15</td>\n",
       "      <td>Yes</td>\n",
       "    </tr>\n",
       "    <tr>\n",
       "      <th>3</th>\n",
       "      <td>7795-CFOCW</td>\n",
       "      <td>Male</td>\n",
       "      <td>0</td>\n",
       "      <td>No</td>\n",
       "      <td>No</td>\n",
       "      <td>45</td>\n",
       "      <td>No</td>\n",
       "      <td>No phone service</td>\n",
       "      <td>DSL</td>\n",
       "      <td>Yes</td>\n",
       "      <td>No</td>\n",
       "      <td>Yes</td>\n",
       "      <td>Yes</td>\n",
       "      <td>No</td>\n",
       "      <td>No</td>\n",
       "      <td>One year</td>\n",
       "      <td>No</td>\n",
       "      <td>Bank transfer (automatic)</td>\n",
       "      <td>42.30</td>\n",
       "      <td>1840.75</td>\n",
       "      <td>No</td>\n",
       "    </tr>\n",
       "    <tr>\n",
       "      <th>4</th>\n",
       "      <td>9237-HQITU</td>\n",
       "      <td>Female</td>\n",
       "      <td>0</td>\n",
       "      <td>No</td>\n",
       "      <td>No</td>\n",
       "      <td>2</td>\n",
       "      <td>Yes</td>\n",
       "      <td>No</td>\n",
       "      <td>Fiber optic</td>\n",
       "      <td>No</td>\n",
       "      <td>No</td>\n",
       "      <td>No</td>\n",
       "      <td>No</td>\n",
       "      <td>No</td>\n",
       "      <td>No</td>\n",
       "      <td>Month-to-month</td>\n",
       "      <td>Yes</td>\n",
       "      <td>Electronic check</td>\n",
       "      <td>70.70</td>\n",
       "      <td>151.65</td>\n",
       "      <td>Yes</td>\n",
       "    </tr>\n",
       "  </tbody>\n",
       "</table>\n",
       "</div>"
      ],
      "text/plain": [
       "   customerID  gender  SeniorCitizen Partner Dependents  tenure PhoneService  \\\n",
       "0  7590-VHVEG  Female              0     Yes         No       1           No   \n",
       "1  5575-GNVDE    Male              0      No         No      34          Yes   \n",
       "2  3668-QPYBK    Male              0      No         No       2          Yes   \n",
       "3  7795-CFOCW    Male              0      No         No      45           No   \n",
       "4  9237-HQITU  Female              0      No         No       2          Yes   \n",
       "\n",
       "      MultipleLines InternetService OnlineSecurity OnlineBackup  \\\n",
       "0  No phone service             DSL             No          Yes   \n",
       "1                No             DSL            Yes           No   \n",
       "2                No             DSL            Yes          Yes   \n",
       "3  No phone service             DSL            Yes           No   \n",
       "4                No     Fiber optic             No           No   \n",
       "\n",
       "  DeviceProtection TechSupport StreamingTV StreamingMovies        Contract  \\\n",
       "0               No          No          No              No  Month-to-month   \n",
       "1              Yes          No          No              No        One year   \n",
       "2               No          No          No              No  Month-to-month   \n",
       "3              Yes         Yes          No              No        One year   \n",
       "4               No          No          No              No  Month-to-month   \n",
       "\n",
       "  PaperlessBilling              PaymentMethod  MonthlyCharges TotalCharges  \\\n",
       "0              Yes           Electronic check           29.85        29.85   \n",
       "1               No               Mailed check           56.95       1889.5   \n",
       "2              Yes               Mailed check           53.85       108.15   \n",
       "3               No  Bank transfer (automatic)           42.30      1840.75   \n",
       "4              Yes           Electronic check           70.70       151.65   \n",
       "\n",
       "  Churn  \n",
       "0    No  \n",
       "1    No  \n",
       "2   Yes  \n",
       "3    No  \n",
       "4   Yes  "
      ]
     },
     "execution_count": 12,
     "metadata": {},
     "output_type": "execute_result"
    }
   ],
   "source": [
    "df1.head()"
   ]
  },
  {
   "cell_type": "code",
   "execution_count": 13,
   "id": "c2348479",
   "metadata": {
    "ExecuteTime": {
     "end_time": "2022-09-03T01:20:26.825654Z",
     "start_time": "2022-09-03T01:20:26.813596Z"
    },
    "hidden": true
   },
   "outputs": [
    {
     "data": {
      "text/plain": [
       "customerID           object\n",
       "gender               object\n",
       "SeniorCitizen         int64\n",
       "Partner              object\n",
       "Dependents           object\n",
       "tenure                int64\n",
       "PhoneService         object\n",
       "MultipleLines        object\n",
       "InternetService      object\n",
       "OnlineSecurity       object\n",
       "OnlineBackup         object\n",
       "DeviceProtection     object\n",
       "TechSupport          object\n",
       "StreamingTV          object\n",
       "StreamingMovies      object\n",
       "Contract             object\n",
       "PaperlessBilling     object\n",
       "PaymentMethod        object\n",
       "MonthlyCharges      float64\n",
       "TotalCharges         object\n",
       "Churn                object\n",
       "dtype: object"
      ]
     },
     "execution_count": 13,
     "metadata": {},
     "output_type": "execute_result"
    }
   ],
   "source": [
    "df1.dtypes"
   ]
  },
  {
   "cell_type": "markdown",
   "id": "7861f1ac",
   "metadata": {
    "hidden": true
   },
   "source": [
    "- Foi identificado que coluna TotalCharges é um float e está configurado como object.\n",
    "- Iremos realizar a modificação"
   ]
  },
  {
   "cell_type": "code",
   "execution_count": 27,
   "id": "775228c6",
   "metadata": {
    "ExecuteTime": {
     "end_time": "2022-09-03T01:26:31.603959Z",
     "start_time": "2022-09-03T01:26:31.584921Z"
    },
    "hidden": true
   },
   "outputs": [],
   "source": [
    "df1 = df1.loc[df1['TotalCharges'] != ' ', :]"
   ]
  },
  {
   "cell_type": "code",
   "execution_count": 28,
   "id": "c21c52e4",
   "metadata": {
    "ExecuteTime": {
     "end_time": "2022-09-03T01:26:34.885429Z",
     "start_time": "2022-09-03T01:26:34.872095Z"
    },
    "hidden": true
   },
   "outputs": [],
   "source": [
    "#transformando coluna TotalCharges para número\n",
    "df1['TotalCharges'] = df1['TotalCharges'].astype(float)"
   ]
  },
  {
   "cell_type": "markdown",
   "id": "e217a666",
   "metadata": {
    "heading_collapsed": true,
    "hidden": true
   },
   "source": [
    "## 1.3. Missing Values"
   ]
  },
  {
   "cell_type": "code",
   "execution_count": 31,
   "id": "ac891ec9",
   "metadata": {
    "ExecuteTime": {
     "end_time": "2022-09-03T01:27:20.310804Z",
     "start_time": "2022-09-03T01:27:20.284110Z"
    },
    "hidden": true
   },
   "outputs": [
    {
     "data": {
      "text/plain": [
       "customerID          0\n",
       "gender              0\n",
       "SeniorCitizen       0\n",
       "Partner             0\n",
       "Dependents          0\n",
       "tenure              0\n",
       "PhoneService        0\n",
       "MultipleLines       0\n",
       "InternetService     0\n",
       "OnlineSecurity      0\n",
       "OnlineBackup        0\n",
       "DeviceProtection    0\n",
       "TechSupport         0\n",
       "StreamingTV         0\n",
       "StreamingMovies     0\n",
       "Contract            0\n",
       "PaperlessBilling    0\n",
       "PaymentMethod       0\n",
       "MonthlyCharges      0\n",
       "TotalCharges        0\n",
       "Churn               0\n",
       "dtype: int64"
      ]
     },
     "execution_count": 31,
     "metadata": {},
     "output_type": "execute_result"
    }
   ],
   "source": [
    "df1.isnull().sum()"
   ]
  },
  {
   "cell_type": "markdown",
   "id": "4b7281b2",
   "metadata": {
    "hidden": true
   },
   "source": [
    "- Inicialmente não encontramos valores nulos.\n",
    "- É possível que haja inconsistência como espaços dentro de alguma coluna"
   ]
  },
  {
   "cell_type": "markdown",
   "id": "3163d30a",
   "metadata": {
    "heading_collapsed": true,
    "hidden": true
   },
   "source": [
    "## 1.4. Descriptive Analysis"
   ]
  },
  {
   "cell_type": "code",
   "execution_count": 34,
   "id": "a5828dab",
   "metadata": {
    "ExecuteTime": {
     "end_time": "2022-09-03T01:30:23.031275Z",
     "start_time": "2022-09-03T01:30:23.016713Z"
    },
    "hidden": true
   },
   "outputs": [],
   "source": [
    "#split data\n",
    "num_attributes = df1.select_dtypes(include = ['int64','float64'])\n",
    "cat_attributes = df1.select_dtypes(exclude = ['int64','float64'])"
   ]
  },
  {
   "cell_type": "markdown",
   "id": "ac0f88a9",
   "metadata": {
    "heading_collapsed": true,
    "hidden": true
   },
   "source": [
    "### 1.4.1. Numerical Attributes"
   ]
  },
  {
   "cell_type": "code",
   "execution_count": 45,
   "id": "4d7d9b0a",
   "metadata": {
    "ExecuteTime": {
     "end_time": "2022-09-03T01:33:53.057019Z",
     "start_time": "2022-09-03T01:33:52.999484Z"
    },
    "hidden": true
   },
   "outputs": [
    {
     "data": {
      "text/html": [
       "<div>\n",
       "<style scoped>\n",
       "    .dataframe tbody tr th:only-of-type {\n",
       "        vertical-align: middle;\n",
       "    }\n",
       "\n",
       "    .dataframe tbody tr th {\n",
       "        vertical-align: top;\n",
       "    }\n",
       "\n",
       "    .dataframe thead th {\n",
       "        text-align: right;\n",
       "    }\n",
       "</style>\n",
       "<table border=\"1\" class=\"dataframe\">\n",
       "  <thead>\n",
       "    <tr style=\"text-align: right;\">\n",
       "      <th></th>\n",
       "      <th>count</th>\n",
       "      <th>mean</th>\n",
       "      <th>std</th>\n",
       "      <th>min</th>\n",
       "      <th>10%</th>\n",
       "      <th>20%</th>\n",
       "      <th>30%</th>\n",
       "      <th>40%</th>\n",
       "      <th>50%</th>\n",
       "      <th>60%</th>\n",
       "      <th>70%</th>\n",
       "      <th>80%</th>\n",
       "      <th>90%</th>\n",
       "      <th>100%</th>\n",
       "      <th>max</th>\n",
       "    </tr>\n",
       "  </thead>\n",
       "  <tbody>\n",
       "    <tr>\n",
       "      <th>SeniorCitizen</th>\n",
       "      <td>7032.0</td>\n",
       "      <td>0.162400</td>\n",
       "      <td>0.368844</td>\n",
       "      <td>0.00</td>\n",
       "      <td>0.00</td>\n",
       "      <td>0.00</td>\n",
       "      <td>0.000</td>\n",
       "      <td>0.00</td>\n",
       "      <td>0.000</td>\n",
       "      <td>0.00</td>\n",
       "      <td>0.000</td>\n",
       "      <td>0.00</td>\n",
       "      <td>1.000</td>\n",
       "      <td>1.00</td>\n",
       "      <td>1.00</td>\n",
       "    </tr>\n",
       "    <tr>\n",
       "      <th>tenure</th>\n",
       "      <td>7032.0</td>\n",
       "      <td>32.421786</td>\n",
       "      <td>24.545260</td>\n",
       "      <td>1.00</td>\n",
       "      <td>2.00</td>\n",
       "      <td>6.00</td>\n",
       "      <td>12.000</td>\n",
       "      <td>20.00</td>\n",
       "      <td>29.000</td>\n",
       "      <td>40.00</td>\n",
       "      <td>50.000</td>\n",
       "      <td>60.80</td>\n",
       "      <td>69.000</td>\n",
       "      <td>72.00</td>\n",
       "      <td>72.00</td>\n",
       "    </tr>\n",
       "    <tr>\n",
       "      <th>MonthlyCharges</th>\n",
       "      <td>7032.0</td>\n",
       "      <td>64.798208</td>\n",
       "      <td>30.085974</td>\n",
       "      <td>18.25</td>\n",
       "      <td>20.05</td>\n",
       "      <td>25.05</td>\n",
       "      <td>45.900</td>\n",
       "      <td>58.92</td>\n",
       "      <td>70.350</td>\n",
       "      <td>79.15</td>\n",
       "      <td>85.535</td>\n",
       "      <td>94.30</td>\n",
       "      <td>102.645</td>\n",
       "      <td>118.75</td>\n",
       "      <td>118.75</td>\n",
       "    </tr>\n",
       "    <tr>\n",
       "      <th>TotalCharges</th>\n",
       "      <td>7032.0</td>\n",
       "      <td>2283.300441</td>\n",
       "      <td>2266.771362</td>\n",
       "      <td>18.80</td>\n",
       "      <td>84.60</td>\n",
       "      <td>267.07</td>\n",
       "      <td>551.995</td>\n",
       "      <td>944.17</td>\n",
       "      <td>1397.475</td>\n",
       "      <td>2048.95</td>\n",
       "      <td>3141.130</td>\n",
       "      <td>4475.41</td>\n",
       "      <td>5976.640</td>\n",
       "      <td>8684.80</td>\n",
       "      <td>8684.80</td>\n",
       "    </tr>\n",
       "  </tbody>\n",
       "</table>\n",
       "</div>"
      ],
      "text/plain": [
       "                 count         mean          std    min    10%     20%  \\\n",
       "SeniorCitizen   7032.0     0.162400     0.368844   0.00   0.00    0.00   \n",
       "tenure          7032.0    32.421786    24.545260   1.00   2.00    6.00   \n",
       "MonthlyCharges  7032.0    64.798208    30.085974  18.25  20.05   25.05   \n",
       "TotalCharges    7032.0  2283.300441  2266.771362  18.80  84.60  267.07   \n",
       "\n",
       "                    30%     40%       50%      60%       70%      80%  \\\n",
       "SeniorCitizen     0.000    0.00     0.000     0.00     0.000     0.00   \n",
       "tenure           12.000   20.00    29.000    40.00    50.000    60.80   \n",
       "MonthlyCharges   45.900   58.92    70.350    79.15    85.535    94.30   \n",
       "TotalCharges    551.995  944.17  1397.475  2048.95  3141.130  4475.41   \n",
       "\n",
       "                     90%     100%      max  \n",
       "SeniorCitizen      1.000     1.00     1.00  \n",
       "tenure            69.000    72.00    72.00  \n",
       "MonthlyCharges   102.645   118.75   118.75  \n",
       "TotalCharges    5976.640  8684.80  8684.80  "
      ]
     },
     "execution_count": 45,
     "metadata": {},
     "output_type": "execute_result"
    }
   ],
   "source": [
    "pd.DataFrame(num_attributes.describe(percentiles = list(np.arange(0.1,1.1,0.1)))).T"
   ]
  },
  {
   "cell_type": "markdown",
   "id": "ebdb3905",
   "metadata": {
    "hidden": true
   },
   "source": [
    "- A variável SeniorCitizen não possui grande variabilidade, ou seja, a maioria dos clientes não o possuiam. Portanto, pode ser uma informação irrelevante na construção do nosso modelo preditivo.\n",
    "- tenure nos sugere que não há inconsistência;\n",
    "- MonthlyCharges está correta;\n",
    "- TotalCharges está correta"
   ]
  },
  {
   "cell_type": "markdown",
   "id": "34626a60",
   "metadata": {
    "hidden": true
   },
   "source": [
    "Algoritmos de Machine Learning partem da premissa que as distribuições são normais. Ou seja, funciona bem quando as variáveis que enviamos possue uma distribuição semelhante."
   ]
  },
  {
   "cell_type": "code",
   "execution_count": 55,
   "id": "bd307ae9",
   "metadata": {
    "ExecuteTime": {
     "end_time": "2022-09-03T01:43:49.388844Z",
     "start_time": "2022-09-03T01:43:48.865431Z"
    },
    "hidden": true
   },
   "outputs": [
    {
     "data": {
      "image/png": "[encoded data removed]",
      "text/plain": [
       "<Figure size 1440x720 with 3 Axes>"
      ]
     },
     "metadata": {
      "needs_background": "light"
     },
     "output_type": "display_data"
    }
   ],
   "source": [
    "plt.figure(figsize = (20,10))\n",
    "\n",
    "plt.subplot(1,3,1)\n",
    "\n",
    "sns.histplot(x = 'tenure', data = num_attributes, kde = True)\n",
    "plt.title(\"Tenure Distribution\", fontsize = 20);\n",
    "plt.box(False)\n",
    "\n",
    "plt.subplot(1,3,2)\n",
    "sns.histplot(x = 'MonthlyCharges', data = num_attributes, kde = True)\n",
    "plt.title(\"MonthlyCharges Distribution\", fontsize = 20);\n",
    "plt.box(False)\n",
    "\n",
    "plt.subplot(1,3,3)\n",
    "sns.histplot(x = 'TotalCharges', data = num_attributes, kde = True)\n",
    "plt.title(\"TotalCharges Distribution\", fontsize = 20);\n",
    "plt.box(False)"
   ]
  },
  {
   "cell_type": "markdown",
   "id": "c29ad4df",
   "metadata": {
    "heading_collapsed": true,
    "hidden": true
   },
   "source": [
    "### 1.4.2. Categorical Attributes"
   ]
  },
  {
   "cell_type": "code",
   "execution_count": 221,
   "id": "1494a63e",
   "metadata": {
    "ExecuteTime": {
     "end_time": "2022-09-03T02:49:10.275593Z",
     "start_time": "2022-09-03T02:49:10.260514Z"
    },
    "hidden": true
   },
   "outputs": [
    {
     "data": {
      "text/plain": [
       "No     0.734215\n",
       "Yes    0.265785\n",
       "Name: Churn, dtype: float64"
      ]
     },
     "execution_count": 221,
     "metadata": {},
     "output_type": "execute_result"
    }
   ],
   "source": [
    "cat_attributes['Churn'].value_counts(normalize = True)"
   ]
  },
  {
   "cell_type": "code",
   "execution_count": 66,
   "id": "b91e0931",
   "metadata": {
    "ExecuteTime": {
     "end_time": "2022-09-03T01:50:10.517606Z",
     "start_time": "2022-09-03T01:50:10.496052Z"
    },
    "hidden": true
   },
   "outputs": [
    {
     "data": {
      "text/html": [
       "<div>\n",
       "<style scoped>\n",
       "    .dataframe tbody tr th:only-of-type {\n",
       "        vertical-align: middle;\n",
       "    }\n",
       "\n",
       "    .dataframe tbody tr th {\n",
       "        vertical-align: top;\n",
       "    }\n",
       "\n",
       "    .dataframe thead th {\n",
       "        text-align: right;\n",
       "    }\n",
       "</style>\n",
       "<table border=\"1\" class=\"dataframe\">\n",
       "  <thead>\n",
       "    <tr style=\"text-align: right;\">\n",
       "      <th></th>\n",
       "      <th>customerID</th>\n",
       "      <th>gender</th>\n",
       "      <th>Partner</th>\n",
       "      <th>Dependents</th>\n",
       "      <th>PhoneService</th>\n",
       "      <th>MultipleLines</th>\n",
       "      <th>InternetService</th>\n",
       "      <th>OnlineSecurity</th>\n",
       "      <th>OnlineBackup</th>\n",
       "      <th>DeviceProtection</th>\n",
       "      <th>TechSupport</th>\n",
       "      <th>StreamingTV</th>\n",
       "      <th>StreamingMovies</th>\n",
       "      <th>Contract</th>\n",
       "      <th>PaperlessBilling</th>\n",
       "      <th>PaymentMethod</th>\n",
       "      <th>Churn</th>\n",
       "    </tr>\n",
       "  </thead>\n",
       "  <tbody>\n",
       "    <tr>\n",
       "      <th>0</th>\n",
       "      <td>7590-VHVEG</td>\n",
       "      <td>Female</td>\n",
       "      <td>Yes</td>\n",
       "      <td>No</td>\n",
       "      <td>No</td>\n",
       "      <td>No phone service</td>\n",
       "      <td>DSL</td>\n",
       "      <td>No</td>\n",
       "      <td>Yes</td>\n",
       "      <td>No</td>\n",
       "      <td>No</td>\n",
       "      <td>No</td>\n",
       "      <td>No</td>\n",
       "      <td>Month-to-month</td>\n",
       "      <td>Yes</td>\n",
       "      <td>Electronic check</td>\n",
       "      <td>No</td>\n",
       "    </tr>\n",
       "    <tr>\n",
       "      <th>1</th>\n",
       "      <td>5575-GNVDE</td>\n",
       "      <td>Male</td>\n",
       "      <td>No</td>\n",
       "      <td>No</td>\n",
       "      <td>Yes</td>\n",
       "      <td>No</td>\n",
       "      <td>DSL</td>\n",
       "      <td>Yes</td>\n",
       "      <td>No</td>\n",
       "      <td>Yes</td>\n",
       "      <td>No</td>\n",
       "      <td>No</td>\n",
       "      <td>No</td>\n",
       "      <td>One year</td>\n",
       "      <td>No</td>\n",
       "      <td>Mailed check</td>\n",
       "      <td>No</td>\n",
       "    </tr>\n",
       "    <tr>\n",
       "      <th>2</th>\n",
       "      <td>3668-QPYBK</td>\n",
       "      <td>Male</td>\n",
       "      <td>No</td>\n",
       "      <td>No</td>\n",
       "      <td>Yes</td>\n",
       "      <td>No</td>\n",
       "      <td>DSL</td>\n",
       "      <td>Yes</td>\n",
       "      <td>Yes</td>\n",
       "      <td>No</td>\n",
       "      <td>No</td>\n",
       "      <td>No</td>\n",
       "      <td>No</td>\n",
       "      <td>Month-to-month</td>\n",
       "      <td>Yes</td>\n",
       "      <td>Mailed check</td>\n",
       "      <td>Yes</td>\n",
       "    </tr>\n",
       "    <tr>\n",
       "      <th>3</th>\n",
       "      <td>7795-CFOCW</td>\n",
       "      <td>Male</td>\n",
       "      <td>No</td>\n",
       "      <td>No</td>\n",
       "      <td>No</td>\n",
       "      <td>No phone service</td>\n",
       "      <td>DSL</td>\n",
       "      <td>Yes</td>\n",
       "      <td>No</td>\n",
       "      <td>Yes</td>\n",
       "      <td>Yes</td>\n",
       "      <td>No</td>\n",
       "      <td>No</td>\n",
       "      <td>One year</td>\n",
       "      <td>No</td>\n",
       "      <td>Bank transfer (automatic)</td>\n",
       "      <td>No</td>\n",
       "    </tr>\n",
       "    <tr>\n",
       "      <th>4</th>\n",
       "      <td>9237-HQITU</td>\n",
       "      <td>Female</td>\n",
       "      <td>No</td>\n",
       "      <td>No</td>\n",
       "      <td>Yes</td>\n",
       "      <td>No</td>\n",
       "      <td>Fiber optic</td>\n",
       "      <td>No</td>\n",
       "      <td>No</td>\n",
       "      <td>No</td>\n",
       "      <td>No</td>\n",
       "      <td>No</td>\n",
       "      <td>No</td>\n",
       "      <td>Month-to-month</td>\n",
       "      <td>Yes</td>\n",
       "      <td>Electronic check</td>\n",
       "      <td>Yes</td>\n",
       "    </tr>\n",
       "  </tbody>\n",
       "</table>\n",
       "</div>"
      ],
      "text/plain": [
       "   customerID  gender Partner Dependents PhoneService     MultipleLines  \\\n",
       "0  7590-VHVEG  Female     Yes         No           No  No phone service   \n",
       "1  5575-GNVDE    Male      No         No          Yes                No   \n",
       "2  3668-QPYBK    Male      No         No          Yes                No   \n",
       "3  7795-CFOCW    Male      No         No           No  No phone service   \n",
       "4  9237-HQITU  Female      No         No          Yes                No   \n",
       "\n",
       "  InternetService OnlineSecurity OnlineBackup DeviceProtection TechSupport  \\\n",
       "0             DSL             No          Yes               No          No   \n",
       "1             DSL            Yes           No              Yes          No   \n",
       "2             DSL            Yes          Yes               No          No   \n",
       "3             DSL            Yes           No              Yes         Yes   \n",
       "4     Fiber optic             No           No               No          No   \n",
       "\n",
       "  StreamingTV StreamingMovies        Contract PaperlessBilling  \\\n",
       "0          No              No  Month-to-month              Yes   \n",
       "1          No              No        One year               No   \n",
       "2          No              No  Month-to-month              Yes   \n",
       "3          No              No        One year               No   \n",
       "4          No              No  Month-to-month              Yes   \n",
       "\n",
       "               PaymentMethod Churn  \n",
       "0           Electronic check    No  \n",
       "1               Mailed check    No  \n",
       "2               Mailed check   Yes  \n",
       "3  Bank transfer (automatic)    No  \n",
       "4           Electronic check   Yes  "
      ]
     },
     "execution_count": 66,
     "metadata": {},
     "output_type": "execute_result"
    }
   ],
   "source": [
    "cat_attributes.head()"
   ]
  },
  {
   "cell_type": "code",
   "execution_count": 76,
   "id": "63c84d09",
   "metadata": {
    "ExecuteTime": {
     "end_time": "2022-09-03T01:51:31.918814Z",
     "start_time": "2022-09-03T01:51:31.903501Z"
    },
    "hidden": true
   },
   "outputs": [],
   "source": [
    "colunas = ['gender',\n",
    " 'Partner',\n",
    " 'Dependents',\n",
    " 'PhoneService',\n",
    " 'MultipleLines',\n",
    " 'InternetService',\n",
    " 'OnlineSecurity',\n",
    " 'OnlineBackup',\n",
    " 'DeviceProtection',\n",
    " 'TechSupport',\n",
    " 'StreamingTV',\n",
    " 'StreamingMovies',\n",
    " 'Contract',\n",
    " 'PaperlessBilling',\n",
    " 'PaymentMethod',\n",
    " 'Churn']"
   ]
  },
  {
   "cell_type": "code",
   "execution_count": 93,
   "id": "746ccb79",
   "metadata": {
    "ExecuteTime": {
     "end_time": "2022-09-03T01:57:10.567762Z",
     "start_time": "2022-09-03T01:57:09.392466Z"
    },
    "hidden": true
   },
   "outputs": [
    {
     "data": {
      "image/png": "[encoded data removed]",
      "text/plain": [
       "<Figure size 1440x720 with 16 Axes>"
      ]
     },
     "metadata": {
      "needs_background": "light"
     },
     "output_type": "display_data"
    }
   ],
   "source": [
    "plt.figure(figsize = (20,10))\n",
    "\n",
    "\n",
    "for i in range(len(colunas)):\n",
    "    plt.subplot(4,4,i + 1)\n",
    "    \n",
    "    sns.countplot(x = colunas[i], data = cat_attributes, palette = 'Blues')\n",
    "    plt.box(False);"
   ]
  },
  {
   "cell_type": "markdown",
   "id": "462e14c0",
   "metadata": {
    "heading_collapsed": true
   },
   "source": [
    "# 2.0. FEATURE ENGINEERING"
   ]
  },
  {
   "cell_type": "code",
   "execution_count": 94,
   "id": "cd803619",
   "metadata": {
    "ExecuteTime": {
     "end_time": "2022-09-03T02:01:36.200668Z",
     "start_time": "2022-09-03T02:01:36.193449Z"
    },
    "hidden": true
   },
   "outputs": [],
   "source": [
    "df2 = df1.copy()"
   ]
  },
  {
   "cell_type": "markdown",
   "id": "638551e3",
   "metadata": {
    "heading_collapsed": true
   },
   "source": [
    "# 3.0. EXPLORATORY DATA ANALYSIS"
   ]
  },
  {
   "cell_type": "code",
   "execution_count": 95,
   "id": "34fbfb49",
   "metadata": {
    "ExecuteTime": {
     "end_time": "2022-09-03T02:03:47.538141Z",
     "start_time": "2022-09-03T02:03:47.520583Z"
    },
    "hidden": true
   },
   "outputs": [],
   "source": [
    "df3 = df2.copy()"
   ]
  },
  {
   "cell_type": "markdown",
   "id": "7c45a93e",
   "metadata": {
    "hidden": true
   },
   "source": [
    "Qual o objetivo da análise exploratória:\n",
    "\n",
    "1. Entender o negócio;\n",
    "2. Validar hipóteses;\n",
    "3. Confrontar uma ideia de negócio que não era baseada em dados;"
   ]
  },
  {
   "cell_type": "markdown",
   "id": "48126544",
   "metadata": {
    "heading_collapsed": true,
    "hidden": true
   },
   "source": [
    "## H1. Pessoas que são assinantes mensais tem maior taxa de Churn"
   ]
  },
  {
   "cell_type": "code",
   "execution_count": 114,
   "id": "ded55ce6",
   "metadata": {
    "ExecuteTime": {
     "end_time": "2022-09-03T02:08:47.686237Z",
     "start_time": "2022-09-03T02:08:47.471049Z"
    },
    "hidden": true
   },
   "outputs": [
    {
     "data": {
      "image/png": "[encoded data removed]",
      "text/plain": [
       "<Figure size 1440x720 with 1 Axes>"
      ]
     },
     "metadata": {
      "needs_background": "light"
     },
     "output_type": "display_data"
    }
   ],
   "source": [
    "aux = df2[['Churn','Contract']].groupby([\"Churn\",'Contract']).size().reset_index().rename(columns = {0:'Count'})\n",
    "\n",
    "plt.figure(figsize = (20,10))\n",
    "sns.barplot(x = 'Churn', y = 'Count',hue = 'Contract', data = aux, palette = 'Blues');\n",
    "plt.box(False)"
   ]
  },
  {
   "cell_type": "markdown",
   "id": "728b6471",
   "metadata": {
    "hidden": true
   },
   "source": [
    "- A hipótese de que os clientes que entraram em churn eram em sua grande maioria assinantes mensais foi validada."
   ]
  },
  {
   "cell_type": "markdown",
   "id": "82439ab9",
   "metadata": {
    "ExecuteTime": {
     "end_time": "2022-09-03T02:09:56.285720Z",
     "start_time": "2022-09-03T02:09:56.254871Z"
    },
    "heading_collapsed": true,
    "hidden": true
   },
   "source": [
    "## H2. Pessoas que tiveram um gasto total maior tendem e permanecer na empresa"
   ]
  },
  {
   "cell_type": "code",
   "execution_count": 125,
   "id": "c72701c4",
   "metadata": {
    "ExecuteTime": {
     "end_time": "2022-09-03T02:12:04.948856Z",
     "start_time": "2022-09-03T02:12:04.771734Z"
    },
    "hidden": true
   },
   "outputs": [
    {
     "data": {
      "image/png": "[encoded data removed]",
      "text/plain": [
       "<Figure size 1440x720 with 1 Axes>"
      ]
     },
     "metadata": {
      "needs_background": "light"
     },
     "output_type": "display_data"
    }
   ],
   "source": [
    "aux = df3[['Churn','TotalCharges']].groupby(\"Churn\").mean().reset_index()\n",
    "\n",
    "plt.figure(figsize = (20,10))\n",
    "sns.barplot(x = 'Churn', y = 'TotalCharges', data = aux, palette = 'Blues')\n",
    "plt.box(False);"
   ]
  },
  {
   "cell_type": "markdown",
   "id": "d2e3ffa5",
   "metadata": {
    "heading_collapsed": true
   },
   "source": [
    "# 4.0. DATA PREPARATION"
   ]
  },
  {
   "cell_type": "markdown",
   "id": "28b0c636",
   "metadata": {
    "heading_collapsed": true,
    "hidden": true
   },
   "source": [
    "## 4.1. Encoding"
   ]
  },
  {
   "cell_type": "markdown",
   "id": "a0b7e6c3",
   "metadata": {
    "hidden": true
   },
   "source": [
    "O processo de transformar texto em número é chamado de encoding. Existem várias formas de realizá-lo e é necessário entender qual a melhor maneira para minimizar o viés.\n",
    "\n",
    "Ou seja, TODO tipo de transformação de dados pode carregar consigo algum tipo de viés.\n",
    "\n",
    "Os dois principais encoders são:\n",
    "\n",
    "- OneHotEncoder: Criar colunas binárias para classe\n",
    "    - Aumenta a dimensionalidade da base\n",
    "- LabelEncoder: Substituir o texto por um número\n",
    "    - Problema: Há uma ordenança"
   ]
  },
  {
   "cell_type": "code",
   "execution_count": 222,
   "id": "fa76f811",
   "metadata": {
    "ExecuteTime": {
     "end_time": "2022-09-03T02:49:45.036853Z",
     "start_time": "2022-09-03T02:49:45.019066Z"
    },
    "hidden": true
   },
   "outputs": [],
   "source": [
    "df4 = df3.copy()"
   ]
  },
  {
   "cell_type": "code",
   "execution_count": 223,
   "id": "ba5c6fcf",
   "metadata": {
    "ExecuteTime": {
     "end_time": "2022-09-03T02:49:45.222638Z",
     "start_time": "2022-09-03T02:49:45.202544Z"
    },
    "hidden": true
   },
   "outputs": [],
   "source": [
    "df4 = df4.drop(columns = ['customerID'], axis = 1)"
   ]
  },
  {
   "cell_type": "code",
   "execution_count": 224,
   "id": "952e6524",
   "metadata": {
    "ExecuteTime": {
     "end_time": "2022-09-03T02:49:45.409579Z",
     "start_time": "2022-09-03T02:49:45.364486Z"
    },
    "hidden": true
   },
   "outputs": [],
   "source": [
    "binary_var = df4.nunique()[df4.nunique() == 2].keys().to_list()\n",
    "\n",
    "num_var = [col for col in df4.select_dtypes(include = ['int64','float64']).columns.tolist() if col not in binary_var]\n",
    "\n",
    "cat_var = [col for col in df4.columns.tolist() if col not in binary_var + num_var]"
   ]
  },
  {
   "cell_type": "code",
   "execution_count": 225,
   "id": "4e7b526c",
   "metadata": {
    "ExecuteTime": {
     "end_time": "2022-09-03T02:49:45.581158Z",
     "start_time": "2022-09-03T02:49:45.547563Z"
    },
    "hidden": true
   },
   "outputs": [],
   "source": [
    "le = LabelEncoder()\n",
    "\n",
    "for var in binary_var:\n",
    "    df4[var] = le.fit_transform(df4[var])\n",
    "    \n"
   ]
  },
  {
   "cell_type": "code",
   "execution_count": 226,
   "id": "1a076b24",
   "metadata": {
    "ExecuteTime": {
     "end_time": "2022-09-03T02:49:46.359197Z",
     "start_time": "2022-09-03T02:49:46.330949Z"
    },
    "hidden": true
   },
   "outputs": [],
   "source": [
    "df_ = pd.get_dummies(df4, columns = cat_var)"
   ]
  },
  {
   "cell_type": "markdown",
   "id": "5bc1e1d7",
   "metadata": {
    "heading_collapsed": true,
    "hidden": true
   },
   "source": [
    "## 4.2. Normalization"
   ]
  },
  {
   "cell_type": "code",
   "execution_count": 204,
   "id": "5e68c42e",
   "metadata": {
    "ExecuteTime": {
     "end_time": "2022-09-03T02:43:36.989045Z",
     "start_time": "2022-09-03T02:43:36.961902Z"
    },
    "hidden": true
   },
   "outputs": [],
   "source": [
    "ss = StandardScaler()\n",
    "\n",
    "df_['tenure'] = ss.fit_transform(df_[['tenure']])\n",
    "df_['MonthlyCharges'] = ss.fit_transform(df_[['MonthlyCharges']])\n",
    "df_['TotalCharges'] = ss.inverse_transform(df_[['TotalCharges']])"
   ]
  },
  {
   "cell_type": "markdown",
   "id": "2692d1c8",
   "metadata": {
    "hidden": true
   },
   "source": [
    "## 4.3. Split data into training and test"
   ]
  },
  {
   "cell_type": "code",
   "execution_count": 227,
   "id": "e1a1acf1",
   "metadata": {
    "ExecuteTime": {
     "end_time": "2022-09-03T02:49:47.943482Z",
     "start_time": "2022-09-03T02:49:47.922272Z"
    },
    "hidden": true
   },
   "outputs": [],
   "source": [
    "X = df_.drop(columns = ['Churn'], axis = 1)\n",
    "y = df_['Churn']\n",
    "\n",
    "X_train, X_test, y_train, y_test = train_test_split(X, y, test_size = 0.2)"
   ]
  },
  {
   "cell_type": "code",
   "execution_count": 228,
   "id": "d6a5dddb",
   "metadata": {
    "ExecuteTime": {
     "end_time": "2022-09-03T02:49:48.101184Z",
     "start_time": "2022-09-03T02:49:48.098097Z"
    },
    "hidden": true
   },
   "outputs": [
    {
     "data": {
      "text/plain": [
       "(7032, 5625, 1407)"
      ]
     },
     "execution_count": 228,
     "metadata": {},
     "output_type": "execute_result"
    }
   ],
   "source": [
    "X.shape[0], X_train.shape[0], X_test.shape[0]"
   ]
  },
  {
   "cell_type": "markdown",
   "id": "7767b5bd",
   "metadata": {},
   "source": [
    "# 5.0. FEATURE SELECTION"
   ]
  },
  {
   "cell_type": "markdown",
   "id": "3262ddb9",
   "metadata": {},
   "source": [
    "# 6.0. MACHINE LEARNING MODELLING"
   ]
  },
  {
   "cell_type": "markdown",
   "id": "c709d3fc",
   "metadata": {},
   "source": [
    "- Logistic Regression\n",
    "- RandomForest"
   ]
  },
  {
   "cell_type": "markdown",
   "id": "73a90b3c",
   "metadata": {
    "heading_collapsed": true
   },
   "source": [
    "## 6.1. Logistic Regression"
   ]
  },
  {
   "cell_type": "code",
   "execution_count": 207,
   "id": "a9c3c27f",
   "metadata": {
    "ExecuteTime": {
     "end_time": "2022-09-03T02:43:40.578549Z",
     "start_time": "2022-09-03T02:43:40.553824Z"
    },
    "hidden": true
   },
   "outputs": [
    {
     "data": {
      "text/html": [
       "<div>\n",
       "<style scoped>\n",
       "    .dataframe tbody tr th:only-of-type {\n",
       "        vertical-align: middle;\n",
       "    }\n",
       "\n",
       "    .dataframe tbody tr th {\n",
       "        vertical-align: top;\n",
       "    }\n",
       "\n",
       "    .dataframe thead th {\n",
       "        text-align: right;\n",
       "    }\n",
       "</style>\n",
       "<table border=\"1\" class=\"dataframe\">\n",
       "  <thead>\n",
       "    <tr style=\"text-align: right;\">\n",
       "      <th></th>\n",
       "      <th>gender</th>\n",
       "      <th>SeniorCitizen</th>\n",
       "      <th>Partner</th>\n",
       "      <th>Dependents</th>\n",
       "      <th>tenure</th>\n",
       "      <th>PhoneService</th>\n",
       "      <th>PaperlessBilling</th>\n",
       "      <th>MonthlyCharges</th>\n",
       "      <th>TotalCharges</th>\n",
       "      <th>MultipleLines_No</th>\n",
       "      <th>MultipleLines_No phone service</th>\n",
       "      <th>MultipleLines_Yes</th>\n",
       "      <th>InternetService_DSL</th>\n",
       "      <th>InternetService_Fiber optic</th>\n",
       "      <th>InternetService_No</th>\n",
       "      <th>OnlineSecurity_No</th>\n",
       "      <th>OnlineSecurity_No internet service</th>\n",
       "      <th>OnlineSecurity_Yes</th>\n",
       "      <th>OnlineBackup_No</th>\n",
       "      <th>OnlineBackup_No internet service</th>\n",
       "      <th>OnlineBackup_Yes</th>\n",
       "      <th>DeviceProtection_No</th>\n",
       "      <th>DeviceProtection_No internet service</th>\n",
       "      <th>DeviceProtection_Yes</th>\n",
       "      <th>TechSupport_No</th>\n",
       "      <th>TechSupport_No internet service</th>\n",
       "      <th>TechSupport_Yes</th>\n",
       "      <th>StreamingTV_No</th>\n",
       "      <th>StreamingTV_No internet service</th>\n",
       "      <th>StreamingTV_Yes</th>\n",
       "      <th>StreamingMovies_No</th>\n",
       "      <th>StreamingMovies_No internet service</th>\n",
       "      <th>StreamingMovies_Yes</th>\n",
       "      <th>Contract_Month-to-month</th>\n",
       "      <th>Contract_One year</th>\n",
       "      <th>Contract_Two year</th>\n",
       "      <th>PaymentMethod_Bank transfer (automatic)</th>\n",
       "      <th>PaymentMethod_Credit card (automatic)</th>\n",
       "      <th>PaymentMethod_Electronic check</th>\n",
       "      <th>PaymentMethod_Mailed check</th>\n",
       "    </tr>\n",
       "  </thead>\n",
       "  <tbody>\n",
       "    <tr>\n",
       "      <th>905</th>\n",
       "      <td>1</td>\n",
       "      <td>1</td>\n",
       "      <td>0</td>\n",
       "      <td>0</td>\n",
       "      <td>-0.954296</td>\n",
       "      <td>1</td>\n",
       "      <td>1</td>\n",
       "      <td>1.186743</td>\n",
       "      <td>27699.808662</td>\n",
       "      <td>0</td>\n",
       "      <td>0</td>\n",
       "      <td>1</td>\n",
       "      <td>0</td>\n",
       "      <td>1</td>\n",
       "      <td>0</td>\n",
       "      <td>1</td>\n",
       "      <td>0</td>\n",
       "      <td>0</td>\n",
       "      <td>1</td>\n",
       "      <td>0</td>\n",
       "      <td>0</td>\n",
       "      <td>0</td>\n",
       "      <td>0</td>\n",
       "      <td>1</td>\n",
       "      <td>1</td>\n",
       "      <td>0</td>\n",
       "      <td>0</td>\n",
       "      <td>0</td>\n",
       "      <td>0</td>\n",
       "      <td>1</td>\n",
       "      <td>0</td>\n",
       "      <td>0</td>\n",
       "      <td>1</td>\n",
       "      <td>1</td>\n",
       "      <td>0</td>\n",
       "      <td>0</td>\n",
       "      <td>0</td>\n",
       "      <td>0</td>\n",
       "      <td>1</td>\n",
       "      <td>0</td>\n",
       "    </tr>\n",
       "    <tr>\n",
       "      <th>5793</th>\n",
       "      <td>1</td>\n",
       "      <td>0</td>\n",
       "      <td>0</td>\n",
       "      <td>0</td>\n",
       "      <td>-0.750577</td>\n",
       "      <td>1</td>\n",
       "      <td>1</td>\n",
       "      <td>-0.309077</td>\n",
       "      <td>23155.645447</td>\n",
       "      <td>0</td>\n",
       "      <td>0</td>\n",
       "      <td>1</td>\n",
       "      <td>1</td>\n",
       "      <td>0</td>\n",
       "      <td>0</td>\n",
       "      <td>1</td>\n",
       "      <td>0</td>\n",
       "      <td>0</td>\n",
       "      <td>0</td>\n",
       "      <td>0</td>\n",
       "      <td>1</td>\n",
       "      <td>1</td>\n",
       "      <td>0</td>\n",
       "      <td>0</td>\n",
       "      <td>1</td>\n",
       "      <td>0</td>\n",
       "      <td>0</td>\n",
       "      <td>1</td>\n",
       "      <td>0</td>\n",
       "      <td>0</td>\n",
       "      <td>1</td>\n",
       "      <td>0</td>\n",
       "      <td>0</td>\n",
       "      <td>1</td>\n",
       "      <td>0</td>\n",
       "      <td>0</td>\n",
       "      <td>0</td>\n",
       "      <td>1</td>\n",
       "      <td>0</td>\n",
       "      <td>0</td>\n",
       "    </tr>\n",
       "    <tr>\n",
       "      <th>3433</th>\n",
       "      <td>1</td>\n",
       "      <td>0</td>\n",
       "      <td>0</td>\n",
       "      <td>0</td>\n",
       "      <td>1.164390</td>\n",
       "      <td>1</td>\n",
       "      <td>1</td>\n",
       "      <td>1.427737</td>\n",
       "      <td>196268.559015</td>\n",
       "      <td>0</td>\n",
       "      <td>0</td>\n",
       "      <td>1</td>\n",
       "      <td>0</td>\n",
       "      <td>1</td>\n",
       "      <td>0</td>\n",
       "      <td>0</td>\n",
       "      <td>0</td>\n",
       "      <td>1</td>\n",
       "      <td>0</td>\n",
       "      <td>0</td>\n",
       "      <td>1</td>\n",
       "      <td>0</td>\n",
       "      <td>0</td>\n",
       "      <td>1</td>\n",
       "      <td>1</td>\n",
       "      <td>0</td>\n",
       "      <td>0</td>\n",
       "      <td>0</td>\n",
       "      <td>0</td>\n",
       "      <td>1</td>\n",
       "      <td>0</td>\n",
       "      <td>0</td>\n",
       "      <td>1</td>\n",
       "      <td>0</td>\n",
       "      <td>1</td>\n",
       "      <td>0</td>\n",
       "      <td>0</td>\n",
       "      <td>0</td>\n",
       "      <td>1</td>\n",
       "      <td>0</td>\n",
       "    </tr>\n",
       "    <tr>\n",
       "      <th>3746</th>\n",
       "      <td>0</td>\n",
       "      <td>0</td>\n",
       "      <td>1</td>\n",
       "      <td>0</td>\n",
       "      <td>-1.280248</td>\n",
       "      <td>1</td>\n",
       "      <td>1</td>\n",
       "      <td>0.138007</td>\n",
       "      <td>2139.078603</td>\n",
       "      <td>1</td>\n",
       "      <td>0</td>\n",
       "      <td>0</td>\n",
       "      <td>0</td>\n",
       "      <td>1</td>\n",
       "      <td>0</td>\n",
       "      <td>1</td>\n",
       "      <td>0</td>\n",
       "      <td>0</td>\n",
       "      <td>1</td>\n",
       "      <td>0</td>\n",
       "      <td>0</td>\n",
       "      <td>1</td>\n",
       "      <td>0</td>\n",
       "      <td>0</td>\n",
       "      <td>1</td>\n",
       "      <td>0</td>\n",
       "      <td>0</td>\n",
       "      <td>1</td>\n",
       "      <td>0</td>\n",
       "      <td>0</td>\n",
       "      <td>1</td>\n",
       "      <td>0</td>\n",
       "      <td>0</td>\n",
       "      <td>1</td>\n",
       "      <td>0</td>\n",
       "      <td>0</td>\n",
       "      <td>0</td>\n",
       "      <td>0</td>\n",
       "      <td>1</td>\n",
       "      <td>0</td>\n",
       "    </tr>\n",
       "    <tr>\n",
       "      <th>6416</th>\n",
       "      <td>1</td>\n",
       "      <td>0</td>\n",
       "      <td>0</td>\n",
       "      <td>0</td>\n",
       "      <td>1.408853</td>\n",
       "      <td>0</td>\n",
       "      <td>0</td>\n",
       "      <td>-0.694666</td>\n",
       "      <td>93240.450698</td>\n",
       "      <td>0</td>\n",
       "      <td>1</td>\n",
       "      <td>0</td>\n",
       "      <td>1</td>\n",
       "      <td>0</td>\n",
       "      <td>0</td>\n",
       "      <td>0</td>\n",
       "      <td>0</td>\n",
       "      <td>1</td>\n",
       "      <td>1</td>\n",
       "      <td>0</td>\n",
       "      <td>0</td>\n",
       "      <td>1</td>\n",
       "      <td>0</td>\n",
       "      <td>0</td>\n",
       "      <td>0</td>\n",
       "      <td>0</td>\n",
       "      <td>1</td>\n",
       "      <td>0</td>\n",
       "      <td>0</td>\n",
       "      <td>1</td>\n",
       "      <td>1</td>\n",
       "      <td>0</td>\n",
       "      <td>0</td>\n",
       "      <td>0</td>\n",
       "      <td>0</td>\n",
       "      <td>1</td>\n",
       "      <td>0</td>\n",
       "      <td>0</td>\n",
       "      <td>1</td>\n",
       "      <td>0</td>\n",
       "    </tr>\n",
       "  </tbody>\n",
       "</table>\n",
       "</div>"
      ],
      "text/plain": [
       "      gender  SeniorCitizen  Partner  Dependents    tenure  PhoneService  \\\n",
       "905        1              1        0           0 -0.954296             1   \n",
       "5793       1              0        0           0 -0.750577             1   \n",
       "3433       1              0        0           0  1.164390             1   \n",
       "3746       0              0        1           0 -1.280248             1   \n",
       "6416       1              0        0           0  1.408853             0   \n",
       "\n",
       "      PaperlessBilling  MonthlyCharges   TotalCharges  MultipleLines_No  \\\n",
       "905                  1        1.186743   27699.808662                 0   \n",
       "5793                 1       -0.309077   23155.645447                 0   \n",
       "3433                 1        1.427737  196268.559015                 0   \n",
       "3746                 1        0.138007    2139.078603                 1   \n",
       "6416                 0       -0.694666   93240.450698                 0   \n",
       "\n",
       "      MultipleLines_No phone service  MultipleLines_Yes  InternetService_DSL  \\\n",
       "905                                0                  1                    0   \n",
       "5793                               0                  1                    1   \n",
       "3433                               0                  1                    0   \n",
       "3746                               0                  0                    0   \n",
       "6416                               1                  0                    1   \n",
       "\n",
       "      InternetService_Fiber optic  InternetService_No  OnlineSecurity_No  \\\n",
       "905                             1                   0                  1   \n",
       "5793                            0                   0                  1   \n",
       "3433                            1                   0                  0   \n",
       "3746                            1                   0                  1   \n",
       "6416                            0                   0                  0   \n",
       "\n",
       "      OnlineSecurity_No internet service  OnlineSecurity_Yes  OnlineBackup_No  \\\n",
       "905                                    0                   0                1   \n",
       "5793                                   0                   0                0   \n",
       "3433                                   0                   1                0   \n",
       "3746                                   0                   0                1   \n",
       "6416                                   0                   1                1   \n",
       "\n",
       "      OnlineBackup_No internet service  OnlineBackup_Yes  DeviceProtection_No  \\\n",
       "905                                  0                 0                    0   \n",
       "5793                                 0                 1                    1   \n",
       "3433                                 0                 1                    0   \n",
       "3746                                 0                 0                    1   \n",
       "6416                                 0                 0                    1   \n",
       "\n",
       "      DeviceProtection_No internet service  DeviceProtection_Yes  \\\n",
       "905                                      0                     1   \n",
       "5793                                     0                     0   \n",
       "3433                                     0                     1   \n",
       "3746                                     0                     0   \n",
       "6416                                     0                     0   \n",
       "\n",
       "      TechSupport_No  TechSupport_No internet service  TechSupport_Yes  \\\n",
       "905                1                                0                0   \n",
       "5793               1                                0                0   \n",
       "3433               1                                0                0   \n",
       "3746               1                                0                0   \n",
       "6416               0                                0                1   \n",
       "\n",
       "      StreamingTV_No  StreamingTV_No internet service  StreamingTV_Yes  \\\n",
       "905                0                                0                1   \n",
       "5793               1                                0                0   \n",
       "3433               0                                0                1   \n",
       "3746               1                                0                0   \n",
       "6416               0                                0                1   \n",
       "\n",
       "      StreamingMovies_No  StreamingMovies_No internet service  \\\n",
       "905                    0                                    0   \n",
       "5793                   1                                    0   \n",
       "3433                   0                                    0   \n",
       "3746                   1                                    0   \n",
       "6416                   1                                    0   \n",
       "\n",
       "      StreamingMovies_Yes  Contract_Month-to-month  Contract_One year  \\\n",
       "905                     1                        1                  0   \n",
       "5793                    0                        1                  0   \n",
       "3433                    1                        0                  1   \n",
       "3746                    0                        1                  0   \n",
       "6416                    0                        0                  0   \n",
       "\n",
       "      Contract_Two year  PaymentMethod_Bank transfer (automatic)  \\\n",
       "905                   0                                        0   \n",
       "5793                  0                                        0   \n",
       "3433                  0                                        0   \n",
       "3746                  0                                        0   \n",
       "6416                  1                                        0   \n",
       "\n",
       "      PaymentMethod_Credit card (automatic)  PaymentMethod_Electronic check  \\\n",
       "905                                       0                               1   \n",
       "5793                                      1                               0   \n",
       "3433                                      0                               1   \n",
       "3746                                      0                               1   \n",
       "6416                                      0                               1   \n",
       "\n",
       "      PaymentMethod_Mailed check  \n",
       "905                            0  \n",
       "5793                           0  \n",
       "3433                           0  \n",
       "3746                           0  \n",
       "6416                           0  "
      ]
     },
     "execution_count": 207,
     "metadata": {},
     "output_type": "execute_result"
    }
   ],
   "source": [
    "X_train.head()"
   ]
  },
  {
   "cell_type": "code",
   "execution_count": 208,
   "id": "d26e3505",
   "metadata": {
    "ExecuteTime": {
     "end_time": "2022-09-03T02:43:46.060384Z",
     "start_time": "2022-09-03T02:43:46.024895Z"
    },
    "hidden": true
   },
   "outputs": [
    {
     "data": {
      "text/plain": [
       "LogisticRegression()"
      ]
     },
     "execution_count": 208,
     "metadata": {},
     "output_type": "execute_result"
    }
   ],
   "source": [
    "lr = LogisticRegression()\n",
    "\n",
    "lr.fit(X_train, y_train)"
   ]
  },
  {
   "cell_type": "code",
   "execution_count": 209,
   "id": "b91387da",
   "metadata": {
    "ExecuteTime": {
     "end_time": "2022-09-03T02:45:27.785264Z",
     "start_time": "2022-09-03T02:45:27.770078Z"
    },
    "hidden": true
   },
   "outputs": [],
   "source": [
    "yhat = lr.predict(X_test)"
   ]
  },
  {
   "cell_type": "code",
   "execution_count": 212,
   "id": "3b5b6d7c",
   "metadata": {
    "ExecuteTime": {
     "end_time": "2022-09-03T02:45:52.674012Z",
     "start_time": "2022-09-03T02:45:52.657779Z"
    },
    "hidden": true
   },
   "outputs": [],
   "source": [
    "X_test['Churn'] = y_test"
   ]
  },
  {
   "cell_type": "code",
   "execution_count": 214,
   "id": "cc46eb81",
   "metadata": {
    "ExecuteTime": {
     "end_time": "2022-09-03T02:46:07.088787Z",
     "start_time": "2022-09-03T02:46:07.072957Z"
    },
    "hidden": true
   },
   "outputs": [],
   "source": [
    "X_test['Prediction'] = yhat"
   ]
  },
  {
   "cell_type": "code",
   "execution_count": 229,
   "id": "c1261c6b",
   "metadata": {
    "ExecuteTime": {
     "end_time": "2022-09-03T02:50:12.497780Z",
     "start_time": "2022-09-03T02:50:09.417622Z"
    },
    "hidden": true
   },
   "outputs": [
    {
     "name": "stdout",
     "output_type": "stream",
     "text": [
      "Recall: 0.48 (+/- 0.02)\n"
     ]
    }
   ],
   "source": [
    "# criar baseline e ver desempenho\n",
    "rf = RandomForestClassifier()\n",
    "score_baseline = val_model(X_train, y_train, rf)"
   ]
  },
  {
   "cell_type": "markdown",
   "id": "205745fa",
   "metadata": {},
   "source": [
    "# 7.0. RANDOM UNDER SAMPLING"
   ]
  },
  {
   "cell_type": "code",
   "execution_count": 232,
   "id": "71a84630",
   "metadata": {
    "ExecuteTime": {
     "end_time": "2022-09-03T02:52:33.042070Z",
     "start_time": "2022-09-03T02:52:33.019454Z"
    }
   },
   "outputs": [],
   "source": [
    "scaler = StandardScaler().fit(X_train)\n",
    "X_train = scaler.transform(X_train)"
   ]
  },
  {
   "cell_type": "code",
   "execution_count": 235,
   "id": "cacf9f2a",
   "metadata": {
    "ExecuteTime": {
     "end_time": "2022-09-03T02:53:09.747634Z",
     "start_time": "2022-09-03T02:53:09.729151Z"
    }
   },
   "outputs": [
    {
     "data": {
      "text/plain": [
       "0    4128\n",
       "1    1497\n",
       "Name: Churn, dtype: int64"
      ]
     },
     "execution_count": 235,
     "metadata": {},
     "output_type": "execute_result"
    }
   ],
   "source": [
    "y_train.value_counts()"
   ]
  },
  {
   "cell_type": "code",
   "execution_count": 238,
   "id": "bf63b89a",
   "metadata": {
    "ExecuteTime": {
     "end_time": "2022-09-03T02:54:19.424583Z",
     "start_time": "2022-09-03T02:54:19.419560Z"
    }
   },
   "outputs": [],
   "source": [
    "rus = RandomUnderSampler()"
   ]
  },
  {
   "cell_type": "code",
   "execution_count": 239,
   "id": "7c4619c1",
   "metadata": {
    "ExecuteTime": {
     "end_time": "2022-09-03T02:54:53.221814Z",
     "start_time": "2022-09-03T02:54:53.202096Z"
    }
   },
   "outputs": [],
   "source": [
    "X_train_rus, y_train_rus = rus.fit_resample(X_train,y_train)"
   ]
  },
  {
   "cell_type": "code",
   "execution_count": 241,
   "id": "75754d7c",
   "metadata": {
    "ExecuteTime": {
     "end_time": "2022-09-03T02:55:05.851757Z",
     "start_time": "2022-09-03T02:55:05.842713Z"
    }
   },
   "outputs": [
    {
     "data": {
      "text/plain": [
       "0    1497\n",
       "1    1497\n",
       "Name: Churn, dtype: int64"
      ]
     },
     "execution_count": 241,
     "metadata": {},
     "output_type": "execute_result"
    }
   ],
   "source": [
    "y_train_rus.value_counts()"
   ]
  },
  {
   "cell_type": "code",
   "execution_count": 244,
   "id": "8bd227ec",
   "metadata": {
    "ExecuteTime": {
     "end_time": "2022-09-03T02:58:17.370982Z",
     "start_time": "2022-09-03T02:58:16.929691Z"
    }
   },
   "outputs": [
    {
     "data": {
      "text/plain": [
       "RandomForestClassifier()"
      ]
     },
     "execution_count": 244,
     "metadata": {},
     "output_type": "execute_result"
    }
   ],
   "source": [
    "# criar baseline e ver desempenho\n",
    "rf = RandomForestClassifier()\n",
    "rf.fit(X_train_rus, y_train_rus)"
   ]
  },
  {
   "cell_type": "code",
   "execution_count": 249,
   "id": "842d4dd2",
   "metadata": {
    "ExecuteTime": {
     "end_time": "2022-09-03T02:58:33.124095Z",
     "start_time": "2022-09-03T02:58:33.100109Z"
    }
   },
   "outputs": [
    {
     "data": {
      "text/html": [
       "<div>\n",
       "<style scoped>\n",
       "    .dataframe tbody tr th:only-of-type {\n",
       "        vertical-align: middle;\n",
       "    }\n",
       "\n",
       "    .dataframe tbody tr th {\n",
       "        vertical-align: top;\n",
       "    }\n",
       "\n",
       "    .dataframe thead th {\n",
       "        text-align: right;\n",
       "    }\n",
       "</style>\n",
       "<table border=\"1\" class=\"dataframe\">\n",
       "  <thead>\n",
       "    <tr style=\"text-align: right;\">\n",
       "      <th></th>\n",
       "      <th>gender</th>\n",
       "      <th>SeniorCitizen</th>\n",
       "      <th>Partner</th>\n",
       "      <th>Dependents</th>\n",
       "      <th>tenure</th>\n",
       "      <th>PhoneService</th>\n",
       "      <th>PaperlessBilling</th>\n",
       "      <th>MonthlyCharges</th>\n",
       "      <th>TotalCharges</th>\n",
       "      <th>MultipleLines_No</th>\n",
       "      <th>MultipleLines_No phone service</th>\n",
       "      <th>MultipleLines_Yes</th>\n",
       "      <th>InternetService_DSL</th>\n",
       "      <th>InternetService_Fiber optic</th>\n",
       "      <th>InternetService_No</th>\n",
       "      <th>OnlineSecurity_No</th>\n",
       "      <th>OnlineSecurity_No internet service</th>\n",
       "      <th>OnlineSecurity_Yes</th>\n",
       "      <th>OnlineBackup_No</th>\n",
       "      <th>OnlineBackup_No internet service</th>\n",
       "      <th>OnlineBackup_Yes</th>\n",
       "      <th>DeviceProtection_No</th>\n",
       "      <th>DeviceProtection_No internet service</th>\n",
       "      <th>DeviceProtection_Yes</th>\n",
       "      <th>TechSupport_No</th>\n",
       "      <th>TechSupport_No internet service</th>\n",
       "      <th>TechSupport_Yes</th>\n",
       "      <th>StreamingTV_No</th>\n",
       "      <th>StreamingTV_No internet service</th>\n",
       "      <th>StreamingTV_Yes</th>\n",
       "      <th>StreamingMovies_No</th>\n",
       "      <th>StreamingMovies_No internet service</th>\n",
       "      <th>StreamingMovies_Yes</th>\n",
       "      <th>Contract_Month-to-month</th>\n",
       "      <th>Contract_One year</th>\n",
       "      <th>Contract_Two year</th>\n",
       "      <th>PaymentMethod_Bank transfer (automatic)</th>\n",
       "      <th>PaymentMethod_Credit card (automatic)</th>\n",
       "      <th>PaymentMethod_Electronic check</th>\n",
       "      <th>PaymentMethod_Mailed check</th>\n",
       "    </tr>\n",
       "  </thead>\n",
       "  <tbody>\n",
       "    <tr>\n",
       "      <th>1986</th>\n",
       "      <td>0</td>\n",
       "      <td>0</td>\n",
       "      <td>1</td>\n",
       "      <td>1</td>\n",
       "      <td>69</td>\n",
       "      <td>1</td>\n",
       "      <td>1</td>\n",
       "      <td>93.3</td>\n",
       "      <td>6398.05</td>\n",
       "      <td>0</td>\n",
       "      <td>0</td>\n",
       "      <td>1</td>\n",
       "      <td>0</td>\n",
       "      <td>1</td>\n",
       "      <td>0</td>\n",
       "      <td>1</td>\n",
       "      <td>0</td>\n",
       "      <td>0</td>\n",
       "      <td>0</td>\n",
       "      <td>0</td>\n",
       "      <td>1</td>\n",
       "      <td>1</td>\n",
       "      <td>0</td>\n",
       "      <td>0</td>\n",
       "      <td>0</td>\n",
       "      <td>0</td>\n",
       "      <td>1</td>\n",
       "      <td>1</td>\n",
       "      <td>0</td>\n",
       "      <td>0</td>\n",
       "      <td>0</td>\n",
       "      <td>0</td>\n",
       "      <td>1</td>\n",
       "      <td>0</td>\n",
       "      <td>0</td>\n",
       "      <td>1</td>\n",
       "      <td>1</td>\n",
       "      <td>0</td>\n",
       "      <td>0</td>\n",
       "      <td>0</td>\n",
       "    </tr>\n",
       "  </tbody>\n",
       "</table>\n",
       "</div>"
      ],
      "text/plain": [
       "      gender  SeniorCitizen  Partner  Dependents  tenure  PhoneService  \\\n",
       "1986       0              0        1           1      69             1   \n",
       "\n",
       "      PaperlessBilling  MonthlyCharges  TotalCharges  MultipleLines_No  \\\n",
       "1986                 1            93.3       6398.05                 0   \n",
       "\n",
       "      MultipleLines_No phone service  MultipleLines_Yes  InternetService_DSL  \\\n",
       "1986                               0                  1                    0   \n",
       "\n",
       "      InternetService_Fiber optic  InternetService_No  OnlineSecurity_No  \\\n",
       "1986                            1                   0                  1   \n",
       "\n",
       "      OnlineSecurity_No internet service  OnlineSecurity_Yes  OnlineBackup_No  \\\n",
       "1986                                   0                   0                0   \n",
       "\n",
       "      OnlineBackup_No internet service  OnlineBackup_Yes  DeviceProtection_No  \\\n",
       "1986                                 0                 1                    1   \n",
       "\n",
       "      DeviceProtection_No internet service  DeviceProtection_Yes  \\\n",
       "1986                                     0                     0   \n",
       "\n",
       "      TechSupport_No  TechSupport_No internet service  TechSupport_Yes  \\\n",
       "1986               0                                0                1   \n",
       "\n",
       "      StreamingTV_No  StreamingTV_No internet service  StreamingTV_Yes  \\\n",
       "1986               1                                0                0   \n",
       "\n",
       "      StreamingMovies_No  StreamingMovies_No internet service  \\\n",
       "1986                   0                                    0   \n",
       "\n",
       "      StreamingMovies_Yes  Contract_Month-to-month  Contract_One year  \\\n",
       "1986                    1                        0                  0   \n",
       "\n",
       "      Contract_Two year  PaymentMethod_Bank transfer (automatic)  \\\n",
       "1986                  1                                        1   \n",
       "\n",
       "      PaymentMethod_Credit card (automatic)  PaymentMethod_Electronic check  \\\n",
       "1986                                      0                               0   \n",
       "\n",
       "      PaymentMethod_Mailed check  \n",
       "1986                           0  "
      ]
     },
     "execution_count": 249,
     "metadata": {},
     "output_type": "execute_result"
    }
   ],
   "source": []
  },
  {
   "cell_type": "code",
   "execution_count": 261,
   "id": "500fd3a4",
   "metadata": {
    "ExecuteTime": {
     "end_time": "2022-09-03T02:59:51.121336Z",
     "start_time": "2022-09-03T02:59:51.089451Z"
    }
   },
   "outputs": [
    {
     "name": "stdout",
     "output_type": "stream",
     "text": [
      "Probabilidade de ser aprovado: 16.0%\n"
     ]
    },
    {
     "name": "stderr",
     "output_type": "stream",
     "text": [
      "C:\\Users\\jorge\\anaconda3\\lib\\site-packages\\sklearn\\base.py:443: UserWarning: X has feature names, but RandomForestClassifier was fitted without feature names\n",
      "  warnings.warn(\n"
     ]
    }
   ],
   "source": [
    "print(\"Probabilidade de ser aprovado: {}%\".format(rf.predict_proba(X_test.head(1))[:,1][0]*100))"
   ]
  },
  {
   "cell_type": "markdown",
   "id": "797e20df",
   "metadata": {},
   "source": [
    "# 8.0. MODEL PERFORMANCE"
   ]
  },
  {
   "cell_type": "markdown",
   "id": "5ca29b26",
   "metadata": {},
   "source": [
    "# 9.0. HYPERPARAMTER FINE TUNNING"
   ]
  },
  {
   "cell_type": "markdown",
   "id": "49ca4df1",
   "metadata": {
    "heading_collapsed": true
   },
   "source": [
    "# 10.0. DEPLOY MODEL"
   ]
  },
  {
   "cell_type": "code",
   "execution_count": null,
   "id": "48b5467c",
   "metadata": {
    "hidden": true
   },
   "outputs": [],
   "source": []
  }
 ],
 "metadata": {
  "hide_input": false,
  "kernelspec": {
   "display_name": "Python 3 (ipykernel)",
   "language": "python",
   "name": "python3"
  },
  "language_info": {
   "codemirror_mode": {
    "name": "ipython",
    "version": 3
   },
   "file_extension": ".py",
   "mimetype": "text/x-python",
   "name": "python",
   "nbconvert_exporter": "python",
   "pygments_lexer": "ipython3",
   "version": "3.9.7"
  }
 },
 "nbformat": 4,
 "nbformat_minor": 5
}
